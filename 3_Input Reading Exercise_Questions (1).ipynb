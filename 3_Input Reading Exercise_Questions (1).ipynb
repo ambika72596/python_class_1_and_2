{
 "cells": [
  {
   "cell_type": "code",
   "execution_count": 4,
   "metadata": {},
   "outputs": [
    {
     "name": "stdin",
     "output_type": "stream",
     "text": [
      "enter the hour 1\n"
     ]
    },
    {
     "name": "stdout",
     "output_type": "stream",
     "text": [
      "1 hour equals to 60 minutes\n"
     ]
    }
   ],
   "source": [
    "# Write a program to hours to minutes , user should able to give hours as input\n",
    "\n",
    "# your Answer\n",
    "hour=int(input(\"enter the hour\"))\n",
    "minutes=hour*60\n",
    "print(f\"{hour} hour equals to {minutes} minutes\")\n",
    "\n"
   ]
  },
  {
   "cell_type": "code",
   "execution_count": 5,
   "metadata": {},
   "outputs": [
    {
     "name": "stdin",
     "output_type": "stream",
     "text": [
      "Enter the centerimeter : 100\n"
     ]
    },
    {
     "name": "stdout",
     "output_type": "stream",
     "text": [
      "The meter for the above equivalent centimeter is 1.0\n"
     ]
    }
   ],
   "source": [
    "# Write a program to convert centimeter to meter , user shoulb be able to give centimeter as input\n",
    "\n",
    "# your Answer\n",
    "num=int(input(\"Enter the centerimeter :\"))\n",
    "meter=num/100\n",
    "print(f\"The meter for the above equivalent centimeter is {meter}\")\n",
    "\n"
   ]
  },
  {
   "cell_type": "code",
   "execution_count": 4,
   "metadata": {},
   "outputs": [
    {
     "name": "stdin",
     "output_type": "stream",
     "text": [
      "Enter the miles: 10\n"
     ]
    },
    {
     "name": "stdout",
     "output_type": "stream",
     "text": [
      "The equivalent kilometer for miles is 16.0\n"
     ]
    }
   ],
   "source": [
    "# Write a program to convert miles to Kilometer , user shoulb be able to give miles as input\n",
    "\n",
    "# your Answer\n",
    "\n",
    "mile=int(input(\"Enter the miles:\"))\n",
    "kilo=mile*1.6\n",
    "print(f\"The equivalent kilometer for miles is {kilo}\")\n",
    "\n",
    "\n",
    "\n",
    "\n"
   ]
  },
  {
   "cell_type": "code",
   "execution_count": 6,
   "metadata": {},
   "outputs": [
    {
     "name": "stdin",
     "output_type": "stream",
     "text": [
      "Enter the pound: 3\n"
     ]
    },
    {
     "name": "stdout",
     "output_type": "stream",
     "text": [
      "The equivalent pound for miles is 6.612\n"
     ]
    }
   ],
   "source": [
    "# Write a program to convert pounds to Kilogram , user shoulb be able to give pounds as input\n",
    "\n",
    "# your Answer\n",
    "\n",
    "pound=int(input(\"Enter the pound:\"))\n",
    "kilo=pound*2.204\n",
    "print(f\"The equivalent pound for miles is {kilo}\")\n",
    "\n",
    "\n",
    "\n"
   ]
  },
  {
   "cell_type": "code",
   "execution_count": 13,
   "metadata": {},
   "outputs": [
    {
     "name": "stdin",
     "output_type": "stream",
     "text": [
      "enter the principal amount 100000\n",
      "enter the rate of interest 11\n",
      "enter the time period 15\n"
     ]
    },
    {
     "name": "stdout",
     "output_type": "stream",
     "text": [
      "simple interest is 165000.0\n"
     ]
    }
   ],
   "source": [
    "# Write a program to calculate simple interest # all input shoulb be given by the user\n",
    "\n",
    "# your Answer\n",
    "p=int(input(\"enter the principal amount\"))\n",
    "r=int(input(\"enter the rate of interest\"))\n",
    "t=int(input(\"enter the time period\"))\n",
    "si=(p * r * t) / 100\n",
    "print(f\"simple interest is {si}\")\n",
    "\n",
    "\n"
   ]
  },
  {
   "cell_type": "code",
   "execution_count": 15,
   "metadata": {},
   "outputs": [
    {
     "name": "stdin",
     "output_type": "stream",
     "text": [
      "enter the number 4\n"
     ]
    },
    {
     "name": "stdout",
     "output_type": "stream",
     "text": [
      "area of the circle is 50.24\n"
     ]
    }
   ],
   "source": [
    "# Write a program to calculate area of circle\n",
    "\n",
    "# your Answer\n",
    "radius=int(input(\"enter the number\"))\n",
    "area=3.14*(radius**2)\n",
    "print(f\"area of the circle is {area}\")\n",
    "\n",
    "\n",
    "\n",
    "\n",
    "\n"
   ]
  },
  {
   "cell_type": "code",
   "execution_count": 16,
   "metadata": {},
   "outputs": [
    {
     "name": "stdin",
     "output_type": "stream",
     "text": [
      "enter the number 6\n"
     ]
    },
    {
     "name": "stdout",
     "output_type": "stream",
     "text": [
      "area of the circle is 113.04\n"
     ]
    }
   ],
   "source": [
    "# Write a program to calculate area of circle\n",
    "\n",
    "# your Answer\n",
    "\n",
    "\n",
    "radius=int(input(\"enter the number\"))\n",
    "area=3.14*(radius**2)\n",
    "print(f\"area of the circle is {area}\")\n",
    "\n",
    "\n"
   ]
  },
  {
   "cell_type": "code",
   "execution_count": 18,
   "metadata": {},
   "outputs": [
    {
     "name": "stdin",
     "output_type": "stream",
     "text": [
      "enter the number 4\n"
     ]
    },
    {
     "name": "stdout",
     "output_type": "stream",
     "text": [
      "area of the circle is 25.12\n"
     ]
    }
   ],
   "source": [
    "# Write a program to calculate circumference of circle\n",
    "\n",
    "# your Answer\n",
    "\n",
    "radius=int(input(\"enter the number\"))\n",
    "circumference=2*3.14*radius\n",
    "print(f\"area of the circle is {circumference}\")\n",
    "\n",
    "\n",
    "\n"
   ]
  },
  {
   "cell_type": "code",
   "execution_count": 19,
   "metadata": {},
   "outputs": [
    {
     "name": "stdin",
     "output_type": "stream",
     "text": [
      "enter the number 5\n"
     ]
    },
    {
     "name": "stdout",
     "output_type": "stream",
     "text": [
      "area of the circle is 31.400000000000002\n"
     ]
    }
   ],
   "source": [
    "# Write a program to calculate perimeter of square\n",
    "\n",
    "# your Answer\n",
    "\n",
    "radius=int(input(\"enter the number\"))\n",
    "circumference=2*3.14*radius\n",
    "print(f\"area of the circle is {circumference}\")\n",
    "\n",
    "\n",
    "\n",
    "\n",
    "\n"
   ]
  },
  {
   "cell_type": "code",
   "execution_count": 20,
   "metadata": {},
   "outputs": [
    {
     "name": "stdin",
     "output_type": "stream",
     "text": [
      "enter the radius 4\n"
     ]
    },
    {
     "name": "stdout",
     "output_type": "stream",
     "text": [
      "area of the square is 16\n"
     ]
    }
   ],
   "source": [
    "# Write a program to calculate area of square\n",
    "\n",
    "# your Answer\n",
    "\n",
    "a=int(input(\"enter the radius\"))\n",
    "area=a**2\n",
    "print(f\"area of the square is {area}\")\n",
    "\n",
    "\n",
    "\n",
    "\n",
    "\n"
   ]
  },
  {
   "cell_type": "code",
   "execution_count": 21,
   "metadata": {},
   "outputs": [
    {
     "name": "stdin",
     "output_type": "stream",
     "text": [
      "enter the base 5\n",
      "enter the height 7\n"
     ]
    },
    {
     "name": "stdout",
     "output_type": "stream",
     "text": [
      "area of the tringle is 17.5\n"
     ]
    }
   ],
   "source": [
    "# Write a program to area of traingle\n",
    "\n",
    "# your Answer\n",
    "base=int(input(\"enter the base\"))\n",
    "height=int(input(\"enter the height\"))\n",
    "area=0.5*base*height\n",
    "print(f\"area of the tringle is {area}\")\n",
    "\n"
   ]
  }
 ],
 "metadata": {
  "kernelspec": {
   "display_name": "Python 3 (ipykernel)",
   "language": "python",
   "name": "python3"
  },
  "language_info": {
   "codemirror_mode": {
    "name": "ipython",
    "version": 3
   },
   "file_extension": ".py",
   "mimetype": "text/x-python",
   "name": "python",
   "nbconvert_exporter": "python",
   "pygments_lexer": "ipython3",
   "version": "3.12.7"
  }
 },
 "nbformat": 4,
 "nbformat_minor": 4
}

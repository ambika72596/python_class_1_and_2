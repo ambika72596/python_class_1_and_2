{
 "cells": [
  {
   "cell_type": "raw",
   "metadata": {},
   "source": [
    "Read Five marks tamil,english,maths,science and social and if all marks are greater than 35 , print pass else print fail"
   ]
  },
  {
   "cell_type": "code",
   "execution_count": 3,
   "metadata": {},
   "outputs": [
    {
     "name": "stdin",
     "output_type": "stream",
     "text": [
      "enter the marks 22\n",
      "enter the marks 33\n",
      "enter the marks 55\n",
      "enter the marks 77\n",
      "enter the marks 88\n"
     ]
    },
    {
     "name": "stdout",
     "output_type": "stream",
     "text": [
      "student is fail\n"
     ]
    }
   ],
   "source": [
    "tamil=int(input(\"enter the marks\"))\n",
    "english=int(input(\"enter the marks\"))\n",
    "maths=int(input(\"enter the marks\"))\n",
    "science=int(input(\"enter the marks\"))\n",
    "social=int(input(\"enter the marks\"))\n",
    "if tamil>35 and english>35 and maths>35 and science>35 and social>35:\n",
    "    print(\"student is pass\")\n",
    "else:\n",
    "    print(\"student is fail\")\n",
    "    \n",
    "\n"
   ]
  }
 ],
 "metadata": {
  "kernelspec": {
   "display_name": "Python 3 (ipykernel)",
   "language": "python",
   "name": "python3"
  },
  "language_info": {
   "codemirror_mode": {
    "name": "ipython",
    "version": 3
   },
   "file_extension": ".py",
   "mimetype": "text/x-python",
   "name": "python",
   "nbconvert_exporter": "python",
   "pygments_lexer": "ipython3",
   "version": "3.12.7"
  }
 },
 "nbformat": 4,
 "nbformat_minor": 4
}
